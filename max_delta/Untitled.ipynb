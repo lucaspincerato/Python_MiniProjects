{
 "cells": [
  {
   "cell_type": "code",
   "execution_count": 1,
   "metadata": {},
   "outputs": [],
   "source": [
    "import pandas as pd"
   ]
  },
  {
   "cell_type": "code",
   "execution_count": 9,
   "metadata": {},
   "outputs": [],
   "source": [
    "text = open('weight_history.txt', 'r').read()"
   ]
  },
  {
   "cell_type": "code",
   "execution_count": 41,
   "metadata": {},
   "outputs": [],
   "source": [
    "listofvalues = text.split('\\n')"
   ]
  },
  {
   "cell_type": "code",
   "execution_count": 42,
   "metadata": {},
   "outputs": [
    {
     "data": {
      "text/plain": [
       "list"
      ]
     },
     "execution_count": 42,
     "metadata": {},
     "output_type": "execute_result"
    }
   ],
   "source": [
    "type(listofvalues)"
   ]
  },
  {
   "cell_type": "code",
   "execution_count": 98,
   "metadata": {},
   "outputs": [
    {
     "ename": "ValueError",
     "evalue": "list.remove(x): x not in list",
     "output_type": "error",
     "traceback": [
      "\u001b[0;31m---------------------------------------------------------------------------\u001b[0m",
      "\u001b[0;31mValueError\u001b[0m                                Traceback (most recent call last)",
      "\u001b[0;32m<ipython-input-98-756146dbf4b5>\u001b[0m in \u001b[0;36m<module>\u001b[0;34m\u001b[0m\n\u001b[0;32m----> 1\u001b[0;31m \u001b[0mlistofvalues\u001b[0m\u001b[0;34m.\u001b[0m\u001b[0mremove\u001b[0m\u001b[0;34m(\u001b[0m\u001b[0;34m''\u001b[0m\u001b[0;34m)\u001b[0m\u001b[0;34m\u001b[0m\u001b[0;34m\u001b[0m\u001b[0m\n\u001b[0m",
      "\u001b[0;31mValueError\u001b[0m: list.remove(x): x not in list"
     ]
    }
   ],
   "source": [
    "listofvalues.remove('')"
   ]
  },
  {
   "cell_type": "code",
   "execution_count": 44,
   "metadata": {},
   "outputs": [
    {
     "data": {
      "text/plain": [
       "list"
      ]
     },
     "execution_count": 44,
     "metadata": {},
     "output_type": "execute_result"
    }
   ],
   "source": [
    "type(listofvalues)"
   ]
  },
  {
   "cell_type": "code",
   "execution_count": 99,
   "metadata": {},
   "outputs": [
    {
     "data": {
      "text/plain": [
       "['date: weight',\n",
       " '03/12: 136kg',\n",
       " '04/12: 1345kg',\n",
       " '05/12: 133,3kg',\n",
       " '07/12: 133,4kg',\n",
       " '10/12: 134kg',\n",
       " '11/12: 132,7kg',\n",
       " '12/12: 132,6kg',\n",
       " '13/12: 131,9kg',\n",
       " '20/12: 129,6kg',\n",
       " '21/12: 129,4kg',\n",
       " '22/12: 130,4kg',\n",
       " '31/12: 131kg',\n",
       " '01/01: 131,2kg',\n",
       " '02/01: 130,8kg',\n",
       " '03/01: 130,3kg',\n",
       " '04:01: 130,3kg',\n",
       " '06/01: 130,8kg',\n",
       " '09/01: 131,6kg',\n",
       " '11/01: 130,1kg',\n",
       " '14/01: 129,3kg',\n",
       " '15/01: 128,9kg',\n",
       " '16/01: 128,3kg',\n",
       " '17/01: 128,5kg',\n",
       " '18/01: 128,8kg',\n",
       " '21/01: 127,4kg',\n",
       " '23/01: 127,6kg',\n",
       " '24/01: 127,6kg',\n",
       " '28/01: 127,3kg',\n",
       " '29/01: 127,1kg',\n",
       " '30/01: 126,6kg',\n",
       " '31/01: 126,3kg',\n",
       " '04/02: 125,5kg',\n",
       " '05/02: 125,4kg ',\n",
       " '07/02: 125,9kg',\n",
       " '08/02: 125,7kg',\n",
       " '11/02: 123,4kg ',\n",
       " '12/02: 124,3kg',\n",
       " '13/02: 124,3kg',\n",
       " '14/02: 123,8kg',\n",
       " '18/02: 123,2kg',\n",
       " '19/02: 122,7kg',\n",
       " '20/02: 122,4kg',\n",
       " '21/02: 122,5kg',\n",
       " '25/02: 122,4kg',\n",
       " '26/02: 122kg',\n",
       " '27/02: 122kg',\n",
       " '28/02: 122,2kg',\n",
       " '01/03: 122kg',\n",
       " '06/03: 122,3kg',\n",
       " '07:03: 120,7kg',\n",
       " '08/03: 120,7kg',\n",
       " '11/03: 120,6kg',\n",
       " '12/03: 119,7kg',\n",
       " '13/03: 118,6kg',\n",
       " '01/04: 117,9kg',\n",
       " '03/04: 116,9kg',\n",
       " '06/04: 117kg',\n",
       " '08/04: 117,1kg',\n",
       " '09/04: 116,9kg',\n",
       " '10/09: 115,9kg',\n",
       " '11/09: 115,7kg',\n",
       " '15/04: 114,6kg',\n",
       " '16/04: 114,2kg',\n",
       " '17/04: 114,1kg',\n",
       " '18/04: 114 kg',\n",
       " '22/04: 114,4kg',\n",
       " '23/04: 113,8kg',\n",
       " '25/04: 112kg',\n",
       " '29/04: 113,3kg',\n",
       " '03/05: 111,1kg',\n",
       " '06/05: 114,2kg',\n",
       " '07/05: 114kg',\n",
       " '08/05: 113kg',\n",
       " '10/05: 111,9kg',\n",
       " '16/05: 110,6kg',\n",
       " '21/05: 108,9kg',\n",
       " '22/05: 109,2kg',\n",
       " '23/05: 108,1kg',\n",
       " '27/05: 108,9kg',\n",
       " '28/05: 108,1kg',\n",
       " '29/05: 107,7kg',\n",
       " '30/05: 107,5kg',\n",
       " '03/06: 108kg',\n",
       " '05:06: 108kg',\n",
       " '10/06: 107,1kg',\n",
       " '11/06: 106,5kg',\n",
       " '17/06: 106,2kg',\n",
       " '18/06: 106,8kg',\n",
       " '21/06: 105,9kg',\n",
       " '25/06: 105,7kg',\n",
       " '26/06: 104,7kg',\n",
       " '01/07: 104,5kg',\n",
       " '03/07: 104,2kg',\n",
       " '08/07: 103,8kg',\n",
       " '11/07: 102,2kg',\n",
       " '15/07: 102,3kg',\n",
       " '16/07: 102,1kg',\n",
       " '18/07:101,8kg',\n",
       " '22/07: 102,3kg',\n",
       " '23:07: 102kg',\n",
       " '26/07: 103kg',\n",
       " '29/07: 102,9kg',\n",
       " '30/07: 102,8kg',\n",
       " '31/07: 102,6kg',\n",
       " '03/08: 101,5kg',\n",
       " '05/08: 102kg',\n",
       " '07/08: 101kg',\n",
       " '12/08: 103,2kg',\n",
       " '19/08: 105,2kg',\n",
       " '20/08: 103,1kg',\n",
       " '27/08:102,3kg',\n",
       " '29/08: 102,8kg',\n",
       " '03/09: 101,8kg',\n",
       " '05/09: 101,8kg',\n",
       " '09/09/2019: 102,8kg',\n",
       " '17/09/19: 103,6kg',\n",
       " '18/09/19: 102,6kg',\n",
       " '24/09/19: 102,4kg',\n",
       " '30/09/19: 103,8kg',\n",
       " '07/10/19: 104,1kg',\n",
       " '09/10/19: 103,6kg',\n",
       " '14/10/19: 104,5kg',\n",
       " '16/10/19: 104,4kg',\n",
       " '18/10/19: 104,1kg',\n",
       " '21/10/19: 106,8kg',\n",
       " '30/10/19: 103,6kg',\n",
       " '03/11/19: 102,2kg',\n",
       " '06/11/19: 103,6kg',\n",
       " '12/11/19: 104,2kg',\n",
       " '19/11/19: 104,2kg',\n",
       " '24/11/19: 103,4kg',\n",
       " '26/11/19: 104,1kg',\n",
       " '27/11/19: 102,7kg',\n",
       " '02/12/19: 104,8kg']"
      ]
     },
     "execution_count": 99,
     "metadata": {},
     "output_type": "execute_result"
    }
   ],
   "source": [
    "listofvalues"
   ]
  },
  {
   "cell_type": "code",
   "execution_count": 103,
   "metadata": {},
   "outputs": [
    {
     "ename": "TypeError",
     "evalue": "count() takes exactly one argument (0 given)",
     "output_type": "error",
     "traceback": [
      "\u001b[0;31m---------------------------------------------------------------------------\u001b[0m",
      "\u001b[0;31mTypeError\u001b[0m                                 Traceback (most recent call last)",
      "\u001b[0;32m<ipython-input-103-a103db46414b>\u001b[0m in \u001b[0;36m<module>\u001b[0;34m\u001b[0m\n\u001b[1;32m      3\u001b[0m \u001b[0;32mfor\u001b[0m \u001b[0mitem\u001b[0m \u001b[0;32min\u001b[0m \u001b[0mlistofvalues\u001b[0m\u001b[0;34m:\u001b[0m\u001b[0;34m\u001b[0m\u001b[0;34m\u001b[0m\u001b[0m\n\u001b[1;32m      4\u001b[0m     \u001b[0mnewitem\u001b[0m \u001b[0;34m=\u001b[0m \u001b[0mtuple\u001b[0m\u001b[0;34m(\u001b[0m\u001b[0mitem\u001b[0m\u001b[0;34m.\u001b[0m\u001b[0msplit\u001b[0m\u001b[0;34m(\u001b[0m\u001b[0;34m':'\u001b[0m\u001b[0;34m)\u001b[0m\u001b[0;34m)\u001b[0m\u001b[0;34m\u001b[0m\u001b[0;34m\u001b[0m\u001b[0m\n\u001b[0;32m----> 5\u001b[0;31m     \u001b[0;32mif\u001b[0m \u001b[0mnewitem\u001b[0m\u001b[0;34m.\u001b[0m\u001b[0mcount\u001b[0m\u001b[0;34m(\u001b[0m\u001b[0;34m)\u001b[0m \u001b[0;34m>\u001b[0m \u001b[0;36m2\u001b[0m\u001b[0;34m:\u001b[0m\u001b[0;34m\u001b[0m\u001b[0;34m\u001b[0m\u001b[0m\n\u001b[0m\u001b[1;32m      6\u001b[0m         \u001b[0mnewitem\u001b[0m\u001b[0;34m[\u001b[0m\u001b[0;36m0\u001b[0m\u001b[0;34m]\u001b[0m \u001b[0;34m=\u001b[0m \u001b[0mnewitem\u001b[0m\u001b[0;34m[\u001b[0m\u001b[0;36m0\u001b[0m\u001b[0;34m]\u001b[0m\u001b[0;34m+\u001b[0m\u001b[0;34m'/'\u001b[0m\u001b[0;34m+\u001b[0m\u001b[0mnewitem\u001b[0m\u001b[0;34m[\u001b[0m\u001b[0;36m1\u001b[0m\u001b[0;34m]\u001b[0m\u001b[0;34m\u001b[0m\u001b[0;34m\u001b[0m\u001b[0m\n\u001b[1;32m      7\u001b[0m     \u001b[0ml\u001b[0m\u001b[0;34m.\u001b[0m\u001b[0mappend\u001b[0m\u001b[0;34m(\u001b[0m\u001b[0mnewitem\u001b[0m\u001b[0;34m)\u001b[0m\u001b[0;34m\u001b[0m\u001b[0;34m\u001b[0m\u001b[0m\n",
      "\u001b[0;31mTypeError\u001b[0m: count() takes exactly one argument (0 given)"
     ]
    }
   ],
   "source": [
    "l = list()\n",
    "\n",
    "for item in listofvalues:\n",
    "    newitem = tuple(item.split(':'))\n",
    "    if newitem.count() > 2:\n",
    "        newitem[0] = newitem[0]+'/'+newitem[1]\n",
    "    l.append(newitem)"
   ]
  },
  {
   "cell_type": "code",
   "execution_count": 101,
   "metadata": {},
   "outputs": [
    {
     "data": {
      "text/plain": [
       "[('date', ' weight'),\n",
       " ('03/12', ' 136kg'),\n",
       " ('04/12', ' 1345kg'),\n",
       " ('05/12', ' 133,3kg'),\n",
       " ('07/12', ' 133,4kg'),\n",
       " ('10/12', ' 134kg'),\n",
       " ('11/12', ' 132,7kg'),\n",
       " ('12/12', ' 132,6kg'),\n",
       " ('13/12', ' 131,9kg'),\n",
       " ('20/12', ' 129,6kg'),\n",
       " ('21/12', ' 129,4kg'),\n",
       " ('22/12', ' 130,4kg'),\n",
       " ('31/12', ' 131kg'),\n",
       " ('01/01', ' 131,2kg'),\n",
       " ('02/01', ' 130,8kg'),\n",
       " ('03/01', ' 130,3kg'),\n",
       " ('04', '01', ' 130,3kg'),\n",
       " ('06/01', ' 130,8kg'),\n",
       " ('09/01', ' 131,6kg'),\n",
       " ('11/01', ' 130,1kg'),\n",
       " ('14/01', ' 129,3kg'),\n",
       " ('15/01', ' 128,9kg'),\n",
       " ('16/01', ' 128,3kg'),\n",
       " ('17/01', ' 128,5kg'),\n",
       " ('18/01', ' 128,8kg'),\n",
       " ('21/01', ' 127,4kg'),\n",
       " ('23/01', ' 127,6kg'),\n",
       " ('24/01', ' 127,6kg'),\n",
       " ('28/01', ' 127,3kg'),\n",
       " ('29/01', ' 127,1kg'),\n",
       " ('30/01', ' 126,6kg'),\n",
       " ('31/01', ' 126,3kg'),\n",
       " ('04/02', ' 125,5kg'),\n",
       " ('05/02', ' 125,4kg '),\n",
       " ('07/02', ' 125,9kg'),\n",
       " ('08/02', ' 125,7kg'),\n",
       " ('11/02', ' 123,4kg '),\n",
       " ('12/02', ' 124,3kg'),\n",
       " ('13/02', ' 124,3kg'),\n",
       " ('14/02', ' 123,8kg'),\n",
       " ('18/02', ' 123,2kg'),\n",
       " ('19/02', ' 122,7kg'),\n",
       " ('20/02', ' 122,4kg'),\n",
       " ('21/02', ' 122,5kg'),\n",
       " ('25/02', ' 122,4kg'),\n",
       " ('26/02', ' 122kg'),\n",
       " ('27/02', ' 122kg'),\n",
       " ('28/02', ' 122,2kg'),\n",
       " ('01/03', ' 122kg'),\n",
       " ('06/03', ' 122,3kg'),\n",
       " ('07', '03', ' 120,7kg'),\n",
       " ('08/03', ' 120,7kg'),\n",
       " ('11/03', ' 120,6kg'),\n",
       " ('12/03', ' 119,7kg'),\n",
       " ('13/03', ' 118,6kg'),\n",
       " ('01/04', ' 117,9kg'),\n",
       " ('03/04', ' 116,9kg'),\n",
       " ('06/04', ' 117kg'),\n",
       " ('08/04', ' 117,1kg'),\n",
       " ('09/04', ' 116,9kg'),\n",
       " ('10/09', ' 115,9kg'),\n",
       " ('11/09', ' 115,7kg'),\n",
       " ('15/04', ' 114,6kg'),\n",
       " ('16/04', ' 114,2kg'),\n",
       " ('17/04', ' 114,1kg'),\n",
       " ('18/04', ' 114 kg'),\n",
       " ('22/04', ' 114,4kg'),\n",
       " ('23/04', ' 113,8kg'),\n",
       " ('25/04', ' 112kg'),\n",
       " ('29/04', ' 113,3kg'),\n",
       " ('03/05', ' 111,1kg'),\n",
       " ('06/05', ' 114,2kg'),\n",
       " ('07/05', ' 114kg'),\n",
       " ('08/05', ' 113kg'),\n",
       " ('10/05', ' 111,9kg'),\n",
       " ('16/05', ' 110,6kg'),\n",
       " ('21/05', ' 108,9kg'),\n",
       " ('22/05', ' 109,2kg'),\n",
       " ('23/05', ' 108,1kg'),\n",
       " ('27/05', ' 108,9kg'),\n",
       " ('28/05', ' 108,1kg'),\n",
       " ('29/05', ' 107,7kg'),\n",
       " ('30/05', ' 107,5kg'),\n",
       " ('03/06', ' 108kg'),\n",
       " ('05', '06', ' 108kg'),\n",
       " ('10/06', ' 107,1kg'),\n",
       " ('11/06', ' 106,5kg'),\n",
       " ('17/06', ' 106,2kg'),\n",
       " ('18/06', ' 106,8kg'),\n",
       " ('21/06', ' 105,9kg'),\n",
       " ('25/06', ' 105,7kg'),\n",
       " ('26/06', ' 104,7kg'),\n",
       " ('01/07', ' 104,5kg'),\n",
       " ('03/07', ' 104,2kg'),\n",
       " ('08/07', ' 103,8kg'),\n",
       " ('11/07', ' 102,2kg'),\n",
       " ('15/07', ' 102,3kg'),\n",
       " ('16/07', ' 102,1kg'),\n",
       " ('18/07', '101,8kg'),\n",
       " ('22/07', ' 102,3kg'),\n",
       " ('23', '07', ' 102kg'),\n",
       " ('26/07', ' 103kg'),\n",
       " ('29/07', ' 102,9kg'),\n",
       " ('30/07', ' 102,8kg'),\n",
       " ('31/07', ' 102,6kg'),\n",
       " ('03/08', ' 101,5kg'),\n",
       " ('05/08', ' 102kg'),\n",
       " ('07/08', ' 101kg'),\n",
       " ('12/08', ' 103,2kg'),\n",
       " ('19/08', ' 105,2kg'),\n",
       " ('20/08', ' 103,1kg'),\n",
       " ('27/08', '102,3kg'),\n",
       " ('29/08', ' 102,8kg'),\n",
       " ('03/09', ' 101,8kg'),\n",
       " ('05/09', ' 101,8kg'),\n",
       " ('09/09/2019', ' 102,8kg'),\n",
       " ('17/09/19', ' 103,6kg'),\n",
       " ('18/09/19', ' 102,6kg'),\n",
       " ('24/09/19', ' 102,4kg'),\n",
       " ('30/09/19', ' 103,8kg'),\n",
       " ('07/10/19', ' 104,1kg'),\n",
       " ('09/10/19', ' 103,6kg'),\n",
       " ('14/10/19', ' 104,5kg'),\n",
       " ('16/10/19', ' 104,4kg'),\n",
       " ('18/10/19', ' 104,1kg'),\n",
       " ('21/10/19', ' 106,8kg'),\n",
       " ('30/10/19', ' 103,6kg'),\n",
       " ('03/11/19', ' 102,2kg'),\n",
       " ('06/11/19', ' 103,6kg'),\n",
       " ('12/11/19', ' 104,2kg'),\n",
       " ('19/11/19', ' 104,2kg'),\n",
       " ('24/11/19', ' 103,4kg'),\n",
       " ('26/11/19', ' 104,1kg'),\n",
       " ('27/11/19', ' 102,7kg'),\n",
       " ('02/12/19', ' 104,8kg')]"
      ]
     },
     "execution_count": 101,
     "metadata": {},
     "output_type": "execute_result"
    }
   ],
   "source": [
    "l"
   ]
  },
  {
   "cell_type": "code",
   "execution_count": 6,
   "metadata": {},
   "outputs": [
    {
     "ename": "ParserError",
     "evalue": "Error tokenizing data. C error: Expected 1 fields in line 5, saw 2\n",
     "output_type": "error",
     "traceback": [
      "\u001b[0;31m---------------------------------------------------------------------------\u001b[0m",
      "\u001b[0;31mParserError\u001b[0m                               Traceback (most recent call last)",
      "\u001b[0;32m<ipython-input-6-146fcaac9d1b>\u001b[0m in \u001b[0;36m<module>\u001b[0;34m\u001b[0m\n\u001b[0;32m----> 1\u001b[0;31m \u001b[0mdf\u001b[0m \u001b[0;34m=\u001b[0m \u001b[0mpd\u001b[0m\u001b[0;34m.\u001b[0m\u001b[0mread_csv\u001b[0m\u001b[0;34m(\u001b[0m\u001b[0;34m'weight_history.txt'\u001b[0m\u001b[0;34m)\u001b[0m\u001b[0;34m\u001b[0m\u001b[0;34m\u001b[0m\u001b[0m\n\u001b[0m",
      "\u001b[0;32m/anaconda2/envs/cursopython/lib/python3.7/site-packages/pandas/io/parsers.py\u001b[0m in \u001b[0;36mparser_f\u001b[0;34m(filepath_or_buffer, sep, delimiter, header, names, index_col, usecols, squeeze, prefix, mangle_dupe_cols, dtype, engine, converters, true_values, false_values, skipinitialspace, skiprows, skipfooter, nrows, na_values, keep_default_na, na_filter, verbose, skip_blank_lines, parse_dates, infer_datetime_format, keep_date_col, date_parser, dayfirst, cache_dates, iterator, chunksize, compression, thousands, decimal, lineterminator, quotechar, quoting, doublequote, escapechar, comment, encoding, dialect, error_bad_lines, warn_bad_lines, delim_whitespace, low_memory, memory_map, float_precision)\u001b[0m\n\u001b[1;32m    683\u001b[0m         )\n\u001b[1;32m    684\u001b[0m \u001b[0;34m\u001b[0m\u001b[0m\n\u001b[0;32m--> 685\u001b[0;31m         \u001b[0;32mreturn\u001b[0m \u001b[0m_read\u001b[0m\u001b[0;34m(\u001b[0m\u001b[0mfilepath_or_buffer\u001b[0m\u001b[0;34m,\u001b[0m \u001b[0mkwds\u001b[0m\u001b[0;34m)\u001b[0m\u001b[0;34m\u001b[0m\u001b[0;34m\u001b[0m\u001b[0m\n\u001b[0m\u001b[1;32m    686\u001b[0m \u001b[0;34m\u001b[0m\u001b[0m\n\u001b[1;32m    687\u001b[0m     \u001b[0mparser_f\u001b[0m\u001b[0;34m.\u001b[0m\u001b[0m__name__\u001b[0m \u001b[0;34m=\u001b[0m \u001b[0mname\u001b[0m\u001b[0;34m\u001b[0m\u001b[0;34m\u001b[0m\u001b[0m\n",
      "\u001b[0;32m/anaconda2/envs/cursopython/lib/python3.7/site-packages/pandas/io/parsers.py\u001b[0m in \u001b[0;36m_read\u001b[0;34m(filepath_or_buffer, kwds)\u001b[0m\n\u001b[1;32m    461\u001b[0m \u001b[0;34m\u001b[0m\u001b[0m\n\u001b[1;32m    462\u001b[0m     \u001b[0;32mtry\u001b[0m\u001b[0;34m:\u001b[0m\u001b[0;34m\u001b[0m\u001b[0;34m\u001b[0m\u001b[0m\n\u001b[0;32m--> 463\u001b[0;31m         \u001b[0mdata\u001b[0m \u001b[0;34m=\u001b[0m \u001b[0mparser\u001b[0m\u001b[0;34m.\u001b[0m\u001b[0mread\u001b[0m\u001b[0;34m(\u001b[0m\u001b[0mnrows\u001b[0m\u001b[0;34m)\u001b[0m\u001b[0;34m\u001b[0m\u001b[0;34m\u001b[0m\u001b[0m\n\u001b[0m\u001b[1;32m    464\u001b[0m     \u001b[0;32mfinally\u001b[0m\u001b[0;34m:\u001b[0m\u001b[0;34m\u001b[0m\u001b[0;34m\u001b[0m\u001b[0m\n\u001b[1;32m    465\u001b[0m         \u001b[0mparser\u001b[0m\u001b[0;34m.\u001b[0m\u001b[0mclose\u001b[0m\u001b[0;34m(\u001b[0m\u001b[0;34m)\u001b[0m\u001b[0;34m\u001b[0m\u001b[0;34m\u001b[0m\u001b[0m\n",
      "\u001b[0;32m/anaconda2/envs/cursopython/lib/python3.7/site-packages/pandas/io/parsers.py\u001b[0m in \u001b[0;36mread\u001b[0;34m(self, nrows)\u001b[0m\n\u001b[1;32m   1152\u001b[0m     \u001b[0;32mdef\u001b[0m \u001b[0mread\u001b[0m\u001b[0;34m(\u001b[0m\u001b[0mself\u001b[0m\u001b[0;34m,\u001b[0m \u001b[0mnrows\u001b[0m\u001b[0;34m=\u001b[0m\u001b[0;32mNone\u001b[0m\u001b[0;34m)\u001b[0m\u001b[0;34m:\u001b[0m\u001b[0;34m\u001b[0m\u001b[0;34m\u001b[0m\u001b[0m\n\u001b[1;32m   1153\u001b[0m         \u001b[0mnrows\u001b[0m \u001b[0;34m=\u001b[0m \u001b[0m_validate_integer\u001b[0m\u001b[0;34m(\u001b[0m\u001b[0;34m\"nrows\"\u001b[0m\u001b[0;34m,\u001b[0m \u001b[0mnrows\u001b[0m\u001b[0;34m)\u001b[0m\u001b[0;34m\u001b[0m\u001b[0;34m\u001b[0m\u001b[0m\n\u001b[0;32m-> 1154\u001b[0;31m         \u001b[0mret\u001b[0m \u001b[0;34m=\u001b[0m \u001b[0mself\u001b[0m\u001b[0;34m.\u001b[0m\u001b[0m_engine\u001b[0m\u001b[0;34m.\u001b[0m\u001b[0mread\u001b[0m\u001b[0;34m(\u001b[0m\u001b[0mnrows\u001b[0m\u001b[0;34m)\u001b[0m\u001b[0;34m\u001b[0m\u001b[0;34m\u001b[0m\u001b[0m\n\u001b[0m\u001b[1;32m   1155\u001b[0m \u001b[0;34m\u001b[0m\u001b[0m\n\u001b[1;32m   1156\u001b[0m         \u001b[0;31m# May alter columns / col_dict\u001b[0m\u001b[0;34m\u001b[0m\u001b[0;34m\u001b[0m\u001b[0;34m\u001b[0m\u001b[0m\n",
      "\u001b[0;32m/anaconda2/envs/cursopython/lib/python3.7/site-packages/pandas/io/parsers.py\u001b[0m in \u001b[0;36mread\u001b[0;34m(self, nrows)\u001b[0m\n\u001b[1;32m   2057\u001b[0m     \u001b[0;32mdef\u001b[0m \u001b[0mread\u001b[0m\u001b[0;34m(\u001b[0m\u001b[0mself\u001b[0m\u001b[0;34m,\u001b[0m \u001b[0mnrows\u001b[0m\u001b[0;34m=\u001b[0m\u001b[0;32mNone\u001b[0m\u001b[0;34m)\u001b[0m\u001b[0;34m:\u001b[0m\u001b[0;34m\u001b[0m\u001b[0;34m\u001b[0m\u001b[0m\n\u001b[1;32m   2058\u001b[0m         \u001b[0;32mtry\u001b[0m\u001b[0;34m:\u001b[0m\u001b[0;34m\u001b[0m\u001b[0;34m\u001b[0m\u001b[0m\n\u001b[0;32m-> 2059\u001b[0;31m             \u001b[0mdata\u001b[0m \u001b[0;34m=\u001b[0m \u001b[0mself\u001b[0m\u001b[0;34m.\u001b[0m\u001b[0m_reader\u001b[0m\u001b[0;34m.\u001b[0m\u001b[0mread\u001b[0m\u001b[0;34m(\u001b[0m\u001b[0mnrows\u001b[0m\u001b[0;34m)\u001b[0m\u001b[0;34m\u001b[0m\u001b[0;34m\u001b[0m\u001b[0m\n\u001b[0m\u001b[1;32m   2060\u001b[0m         \u001b[0;32mexcept\u001b[0m \u001b[0mStopIteration\u001b[0m\u001b[0;34m:\u001b[0m\u001b[0;34m\u001b[0m\u001b[0;34m\u001b[0m\u001b[0m\n\u001b[1;32m   2061\u001b[0m             \u001b[0;32mif\u001b[0m \u001b[0mself\u001b[0m\u001b[0;34m.\u001b[0m\u001b[0m_first_chunk\u001b[0m\u001b[0;34m:\u001b[0m\u001b[0;34m\u001b[0m\u001b[0;34m\u001b[0m\u001b[0m\n",
      "\u001b[0;32mpandas/_libs/parsers.pyx\u001b[0m in \u001b[0;36mpandas._libs.parsers.TextReader.read\u001b[0;34m()\u001b[0m\n",
      "\u001b[0;32mpandas/_libs/parsers.pyx\u001b[0m in \u001b[0;36mpandas._libs.parsers.TextReader._read_low_memory\u001b[0;34m()\u001b[0m\n",
      "\u001b[0;32mpandas/_libs/parsers.pyx\u001b[0m in \u001b[0;36mpandas._libs.parsers.TextReader._read_rows\u001b[0;34m()\u001b[0m\n",
      "\u001b[0;32mpandas/_libs/parsers.pyx\u001b[0m in \u001b[0;36mpandas._libs.parsers.TextReader._tokenize_rows\u001b[0;34m()\u001b[0m\n",
      "\u001b[0;32mpandas/_libs/parsers.pyx\u001b[0m in \u001b[0;36mpandas._libs.parsers.raise_parser_error\u001b[0;34m()\u001b[0m\n",
      "\u001b[0;31mParserError\u001b[0m: Error tokenizing data. C error: Expected 1 fields in line 5, saw 2\n"
     ]
    }
   ],
   "source": [
    "df = pd.read_csv('weight_history.txt')"
   ]
  },
  {
   "cell_type": "code",
   "execution_count": null,
   "metadata": {},
   "outputs": [],
   "source": []
  },
  {
   "cell_type": "code",
   "execution_count": null,
   "metadata": {},
   "outputs": [],
   "source": []
  },
  {
   "cell_type": "code",
   "execution_count": 4,
   "metadata": {},
   "outputs": [
    {
     "data": {
      "text/html": [
       "<div>\n",
       "<style scoped>\n",
       "    .dataframe tbody tr th:only-of-type {\n",
       "        vertical-align: middle;\n",
       "    }\n",
       "\n",
       "    .dataframe tbody tr th {\n",
       "        vertical-align: top;\n",
       "    }\n",
       "\n",
       "    .dataframe thead th {\n",
       "        text-align: right;\n",
       "    }\n",
       "</style>\n",
       "<table border=\"1\" class=\"dataframe\">\n",
       "  <thead>\n",
       "    <tr style=\"text-align: right;\">\n",
       "      <th></th>\n",
       "      <th>03/12: 136kg</th>\n",
       "    </tr>\n",
       "  </thead>\n",
       "  <tbody>\n",
       "    <tr>\n",
       "      <td>04/12: 134</td>\n",
       "      <td>5kg</td>\n",
       "    </tr>\n",
       "    <tr>\n",
       "      <td>05/12: 133</td>\n",
       "      <td>3kg</td>\n",
       "    </tr>\n",
       "    <tr>\n",
       "      <td>06/12: Faltei na academia. Que vergonha hein</td>\n",
       "      <td>NaN</td>\n",
       "    </tr>\n",
       "    <tr>\n",
       "      <td>07/12: 133</td>\n",
       "      <td>4kg</td>\n",
       "    </tr>\n",
       "    <tr>\n",
       "      <td>10/12: 134kg</td>\n",
       "      <td>NaN</td>\n",
       "    </tr>\n",
       "    <tr>\n",
       "      <td>...</td>\n",
       "      <td>...</td>\n",
       "    </tr>\n",
       "    <tr>\n",
       "      <td>19/11/19: 104</td>\n",
       "      <td>2kg</td>\n",
       "    </tr>\n",
       "    <tr>\n",
       "      <td>24/11/19: 103</td>\n",
       "      <td>4kg</td>\n",
       "    </tr>\n",
       "    <tr>\n",
       "      <td>26/11/19: 104</td>\n",
       "      <td>1kg</td>\n",
       "    </tr>\n",
       "    <tr>\n",
       "      <td>27/11/19: 102</td>\n",
       "      <td>7kg</td>\n",
       "    </tr>\n",
       "    <tr>\n",
       "      <td>02/12/19: 104</td>\n",
       "      <td>8kg</td>\n",
       "    </tr>\n",
       "  </tbody>\n",
       "</table>\n",
       "<p>135 rows × 1 columns</p>\n",
       "</div>"
      ],
      "text/plain": [
       "                                             03/12: 136kg\n",
       "04/12: 134                                            5kg\n",
       "05/12: 133                                            3kg\n",
       "06/12: Faltei na academia. Que vergonha hein          NaN\n",
       "07/12: 133                                            4kg\n",
       "10/12: 134kg                                          NaN\n",
       "...                                                   ...\n",
       "19/11/19: 104                                         2kg\n",
       "24/11/19: 103                                         4kg\n",
       "26/11/19: 104                                         1kg\n",
       "27/11/19: 102                                         7kg\n",
       "02/12/19: 104                                         8kg\n",
       "\n",
       "[135 rows x 1 columns]"
      ]
     },
     "execution_count": 4,
     "metadata": {},
     "output_type": "execute_result"
    }
   ],
   "source": [
    "df"
   ]
  },
  {
   "cell_type": "code",
   "execution_count": null,
   "metadata": {},
   "outputs": [],
   "source": []
  }
 ],
 "metadata": {
  "kernelspec": {
   "display_name": "Python 3",
   "language": "python",
   "name": "python3"
  },
  "language_info": {
   "codemirror_mode": {
    "name": "ipython",
    "version": 3
   },
   "file_extension": ".py",
   "mimetype": "text/x-python",
   "name": "python",
   "nbconvert_exporter": "python",
   "pygments_lexer": "ipython3",
   "version": "3.7.4"
  }
 },
 "nbformat": 4,
 "nbformat_minor": 2
}
